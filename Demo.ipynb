{
  "cells": [
    {
      "cell_type": "markdown",
      "metadata": {
        "id": "tB-yLSEHN0OP"
      },
      "source": [
        "# 🎮 Prática de Aprendizado por Reforço\n",
        "⠀\n",
        "\n",
        "O objetivo deste notebook é fazer uma breve demonstração da área de Aprendizado por Reforço utilizando um dos maiores clássicos da história dos video-games: ***Flappy-bird***.\n",
        "\n",
        "<br>\n",
        "\n",
        "<p align=\"center\">\n",
        "  <img align=\"center\"\n",
        "       src=\"https://github.com/Talendar/flappy-bird-gym/blob/main/imgs/yellow_bird_playing.gif?raw=true\"\n",
        "       width=\"200\"/>\n",
        "  &nbsp;&nbsp;&nbsp;&nbsp;\n",
        "  <img align=\"center\"\n",
        "       src=\"https://github.com/Talendar/flappy-bird-gym/blob/main/imgs/red_bird_start_screen.gif?raw=true\"\n",
        "       width=\"200\"/>\n",
        "  &nbsp;&nbsp;&nbsp;&nbsp;\n",
        "  <img align=\"center\"\n",
        "       src=\"https://github.com/Talendar/flappy-bird-gym/blob/main/imgs/blue_bird_playing.gif?raw=true\"\n",
        "       width=\"200\"/>\n",
        "</p>"
      ]
    },
    {
      "cell_type": "markdown",
      "metadata": {
        "id": "F0j1FYo-N0OS"
      },
      "source": [
        "## 💻 Programando..."
      ]
    },
    {
      "cell_type": "markdown",
      "metadata": {
        "id": "6C6sJ_iWN0OS"
      },
      "source": [
        "### Importando o Gymnasium\n",
        "\n",
        "O **[Gymnasium](https://gymnasium.farama.org/index.html)** é uma biblioteca desenvolvida a partir de uma biblioteca semelhante desenvolvida pela OpenAI que contém várias implementações prontas de ambientes de Aprendizagem por Reforço. Ela é muito utilizada quando se quer testar um algoritmo de agente sem ter o trabalho de programar seu próprio ambiente.\n",
        "\n",
        "<img src=\"https://user-images.githubusercontent.com/10624937/42135602-b0335606-7d12-11e8-8689-dd1cf9fa11a9.gif\" alt=\"Exemplos de Ambientes do Gym\" class=\"inline\"/>\n",
        "<figcaption>Exemplo de Ambientes do Gymnasium</figcaption>\n",
        "<br>\n",
        "\n",
        "Para ter acesso a esses ambientes, basta importar o Gymnasium da seguinte forma:"
      ]
    },
    {
      "cell_type": "code",
      "execution_count": null,
      "metadata": {
        "id": "PdoCqR8RuWyc"
      },
      "outputs": [],
      "source": [
        "import gymnasium as gym"
      ]
    },
    {
      "cell_type": "markdown",
      "metadata": {
        "id": "0B6-cy8TmdtD"
      },
      "source": [
        "### O que é um Ambiente?\n",
        "\n",
        "Um **Ambiente** de Aprendizagem por Reforço é um espaço que representa o nosso problema, é o objeto com o qual o nosso agente deve interagir para cumprir sua função. Isso significa que o agente toma **ações** nesse ambiente, e recebe **recompensas** dele com base na qualidade de sua tomada de decisões.\n",
        "\n",
        "Todos os ambientes são dotados de um **espaço de observações**, que é a forma pela qual o agente recebe informações e deve se basear para a tomada de decisões, e um **espaço de ações**, que especifica as ações possíveis do agente. No xadrez, por exemplo, o espaço de observações seria o conjunto de todas as configurações diferentes do tabuleiro, e o espaço de ações seria o conjunto de todos os movimentos permitidos.\n",
        "\n",
        "<img src=\"https://www.raspberrypi.org/wp-content/uploads/2016/08/giphy-1-1.gif\" alt=\"Uma Ação do Xadrez\" class=\"inline\"/>"
      ]
    },
    {
      "cell_type": "markdown",
      "metadata": {
        "id": "HWZ5pGuCN0OT"
      },
      "source": [
        "### Criando um Ambiente\n",
        "\n",
        "Para utilizar um dos ambientes do Gymnasium, nós usamos a função ```gym.make()```, passando o nome do ambiente desejado como parâmetro e guardando o valor retornado em uma variável que chamaramos de ```env```. A lista com todos os ambientes do gym pode ser encontrada [aqui](https://gymnasium.farama.org/index.html)."
      ]
    },
    {
      "cell_type": "code",
      "execution_count": null,
      "metadata": {
        "id": "DiCGLjdxN0OT"
      },
      "outputs": [],
      "source": [
        "import flappy_bird_gymnasium\n",
        "\n",
        "env = gym.make(\"FlappyBird-v0\", render_mode=\"human\", use_lidar=False)"
      ]
    },
    {
      "cell_type": "markdown",
      "metadata": {
        "id": "BDvQodjA_av9"
      },
      "source": [
        "Nesse caso, nós vamos utilizar o ambiente ```FlappyBird-v0```, um ambiente que reproduz o jogo _Flappy Bird_."
      ]
    },
    {
      "cell_type": "markdown",
      "metadata": {
        "id": "IyRBNN0BmdtE"
      },
      "source": [
        "#### Características do Flappy Bird\n",
        "\n",
        "Antes de treinar qualquer agente, primeiro é preciso entender melhor quais as características do nosso ambiente.\n",
        "\n",
        "O **Espaço de Observação** é definido por várias informações lidas por um sensor, como: \n",
        "\n",
        "- A posição horizontal do último cano\n",
        "- A posição vertical do último cano superior\n",
        "- A posição vertical do último cano inferior\n",
        "- A posição horizontal do próximo cano\n",
        "- A posição vertical do próximo cano superior\n",
        "- A posição vertical do próximo cano inferior\n",
        "- A posição horizontal do próximo próximo cano\n",
        "- A posição vertical do próximo próximo cano superior\n",
        "- A posição vertical do próximo próximo cano inferior\n",
        "- A posição vertical do jogador\n",
        "- A velocidade vertical do jogador\n",
        "- A rotação do jogador\n",
        "\n",
        "Dessa forma, a cada instante recebemos uma lista da observação com o seguinte formato:"
      ]
    },
    {
      "cell_type": "code",
      "execution_count": null,
      "metadata": {
        "colab": {
          "base_uri": "https://localhost:8080/"
        },
        "id": "wZA_-E2UE1ei",
        "outputId": "c3d41be8-5ad7-4e24-9af5-4e52b9751e0c"
      },
      "outputs": [],
      "source": [
        "print(env.observation_space.sample())"
      ]
    },
    {
      "cell_type": "markdown",
      "metadata": {
        "id": "TbvkKonLN0OT"
      },
      "source": [
        "#### Características do Flappy Bird\n",
        "\n",
        "Antes de treinar qualquer agente, primeiro é preciso entender melhor quais as características do espaço de ação do própio agente.\n",
        "\n",
        "O **Espaço de Ação** é definido por 2 informações:\n",
        "\n",
        "| Estado    | Informação                            |\n",
        "| :-------- | :------------------------------------ |\n",
        "| 0         | Não faz nada |\n",
        "| 1         | Bate as asas |\n",
        "\n",
        "Dessa forma, a cada instante recebemos uma lista da observação com o seguinte formato:"
      ]
    },
    {
      "cell_type": "code",
      "execution_count": null,
      "metadata": {
        "colab": {
          "base_uri": "https://localhost:8080/"
        },
        "id": "SKhpz1HCN0OU",
        "outputId": "08a28b45-9e62-4628-9bb9-f76aecc0a189",
        "tags": []
      },
      "outputs": [],
      "source": [
        "print(env.action_space.sample())"
      ]
    },
    {
      "cell_type": "markdown",
      "metadata": {
        "id": "0FfBtSqFN0OU"
      },
      "source": [
        "Por fim, cada vez que tomamos uma ação, recebemos do ambiente uma **recompensa**, conforme a tabela abaixo:\n",
        "\n",
        "| Ocorrência                       | Recompensa|\n",
        "| :--------------------------------| ---------:|\n",
        "| Estar vivo                       | $+0.1$    |\n",
        "| Passar por um cano com sucesso   | $+1.0$    |\n",
        "| Morrer                           | $-1.0$    |\n",
        "| Tocar o topo da tela             | $-0.5$    |\n",
        "\n",
        "O objetivo do jogo é ultrapassar o maior número possível de canos. Assim, o dever do agente (pássaro) é acumular o máximo de pontos possíveis em um determinado período de tempo."
      ]
    },
    {
      "cell_type": "markdown",
      "metadata": {
        "id": "rfmUyb0zN0OU"
      },
      "source": [
        "### ✍ Testando o código\n",
        "\n",
        "Agora que você já entende como o jogo funciona, vamos tentar aplicar esse conhecimento rodando um episódio do jogo tomando ações aleatórias!\n",
        "\n",
        "OBS: Algumas funções úteis do Gymnasium\n",
        "\n",
        "| Método                 | Funcionalidade                                          |\n",
        "| :--------------------- |:------------------------------------------------------- |\n",
        "| `reset()`              | Inicializa o ambiente e recebe a observação inicial     |\n",
        "| `step(acao)`           | Executa uma ação e recebe a observação e a recompensa   |\n",
        "| `render()`             | Renderiza o ambiente                                    |\n",
        "| `close()`              | Fecha o ambiente                                        |"
      ]
    },
    {
      "cell_type": "code",
      "execution_count": null,
      "metadata": {
        "id": "9alCOilXN0OU"
      },
      "outputs": [],
      "source": [
        "# Criando o ambiente\n",
        "env = gym.make(\"FlappyBird-v0\", render_mode=\"human\", use_lidar=False)\n",
        "\n",
        "# Resete o ambiente e receba o estado inicial\n",
        "estado, _ = env.reset()\n",
        "\n",
        "# Inicializando uma variável booleana para indicar que o treinamento ainda não foi concluído\n",
        "fim = False\n",
        "\n",
        "# Loop de treino\n",
        "while not fim:\n",
        "    # Escolha uma acao aleatoria\n",
        "    acao = env.action_space.sample()\n",
        "\n",
        "    # Tome essa acao e receba as informacoes do estado seguinte\n",
        "    prox_estado, recompensa, fim, truncated, info = env.step(acao)\n",
        "\n",
        "# Fechando o ambiente\n",
        "env.close()"
      ]
    },
    {
      "cell_type": "markdown",
      "metadata": {},
      "source": [
        "### Overview\n",
        "\n",
        "Para rodar uma partida, ou episódio de treinamento, são necessárias algumas etapas:\n",
        "\n",
        "1. Iniciar um novo episódio chamando a função ```reset()```\n",
        "2. Discretizar o estado\n",
        "3. Escolher uma ação\n",
        "\n",
        "O estado terminal do ambiente é indicado pela variável \"fim\" e, enquanto o valor dessa variável não for `True`, os últimos dos passos descritos acima são executados. No final de cada iteração, deve-se receber do ambiente o próximo estado, a recompensa que a ação escolhida gerou, além do sinal se estamos no estado terminal."
      ]
    },
    {
      "cell_type": "markdown",
      "metadata": {
        "id": "hdfE1mEvN0OU"
      },
      "source": [
        "## 👩‍💻 Algoritmo"
      ]
    },
    {
      "cell_type": "markdown",
      "metadata": {
        "id": "JoijK3v3N0OU"
      },
      "source": [
        "Primeiramente, precisaremos utilizar uma biblioteca chamada ***NumPy*** para auxiliar nas computações. Esta é uma biblioteca do Python capaz de manusear diversas computações matemáticas com maestria e será importante futuramente para o nosso trabalho."
      ]
    },
    {
      "cell_type": "code",
      "execution_count": null,
      "metadata": {
        "id": "LUiCG-Y1N0OU",
        "tags": []
      },
      "outputs": [],
      "source": [
        "import numpy as np # Importando a biblioteca NumPy\n",
        "import gymnasium as gym         # Importando a Biblioteca Gymnasium\n",
        "\n",
        "# Criando o nosso Ambiente\n",
        "env = gym.make(\"FlappyBird-v0\", render_mode=\"human\", use_lidar=False)\n",
        "\n",
        "# Número total de ações: 2\n",
        "# 0 = não faz nada; 1 = bate as asas\n",
        "n_acoes = env.action_space.n\n",
        "\n",
        "print('Número de ações:', n_acoes)"
      ]
    },
    {
      "cell_type": "markdown",
      "metadata": {
        "id": "LpghWa-9N0OU"
      },
      "source": [
        "### 🔢 Discretizando o nosso Estado\n",
        "\n",
        "Como comentado anteriormente, o estado que o nosso agente recebe consiste das distâncias lidas pelo sensor. Dessa forma, uma breve partida de flappy bird pode conter inúmeros estados, resultados da leitura do sensor a cada momento. \n",
        "\n",
        "O Q-Learning é um algoritmo que guarda em uma tabela as estimativas do Q de cada ação para cada estado.  esse gigantesco número de estados exigiria não somente guardar como atualizar cada um desses Q. Não é uma situação ideal.\n",
        "\n",
        "Para simplificar (e agilizar) a situação, podemos \"discretizar\" os nossos estados. Faremos com que estados similares o suficiente sejam considerados como iguais e comparilhem das mesmas estimativas."
      ]
    },
    {
      "cell_type": "code",
      "execution_count": null,
      "metadata": {
        "id": "2fk1xN1VN0OV"
      },
      "outputs": [],
      "source": [
        "def discretiza_estado(estado):\n",
        "    return tuple(round(x/10) for x in estado)"
      ]
    },
    {
      "cell_type": "markdown",
      "metadata": {
        "id": "o6yw-iedN0OV"
      },
      "source": [
        "### 🔀 Escolhendo Ações\n",
        "\n",
        "Antes de iniciar o processo de escolha de ação, é necessário entender dois conceitos essenciais para o aprendizado por reforço:\n",
        "\n",
        "- **Exploração**:É a fase em que o agente está **explorando o ambiente**, isto é, escolhendo ações que ele não costuma tomar para encontrar alguma solução que ele não havia pensado antes.\n",
        "\n",
        "- **Explotação**: Acontece quando o agente **aproveita** um conhecimento prévio para tomar novas ações que podem maximizar a recompensa recebida em cada episódio\n",
        "\n",
        "Nosso modelo precisa estabelecer um equilíbrio entre **explorar e explotar**. Para isso, existem diversas estratégias para alcançar esse fim. Uma delas, é a seleção de ações pela estratégia do **\"$\\epsilon$-greedy\"**.\n",
        "\n",
        "#### A Estratégia **$\\epsilon$-greedy**\n",
        "\n",
        "O algoritmo \"$\\epsilon$-greedy\" é definido da seguinte forma: é retirado um número aleatório, no intervalo entre 0 e 1. caso este número tenha valor inferior ao valor do epsilon, a escolha será de uma ação aleatória, o que configura exploração. Caso este número seja superior ao epsilon, a ação a ser tomada é a que gera a maior recompensa de acordo com os valores da tabela Q.\n",
        "\n",
        "Este valor de $\\epsilon$ não é constante ao longo do treinamento. Inicialmente, este valor é alto, incentivando a maior exploração do ambiente. A medida que o treinamento ocorre, mais informação sobre o ambiente é adquirida, conseguindo uma tabela Q mais representativa da realidade. Dessa forma, quanto mais avançado no treinamento, menor a necessidade de exploração e maior a necessidade de exploitar o conhecimento adquirido para maximizar a recompensa. Esta atualização do $\\epsilon$ é chamada **\"$\\epsilon$-decay\"** (decaimento do epsilon). Também é estabelecido um valor mínimo para o $\\epsilon$, para que o agente nunca pare completamente de explorar o ambiente."
      ]
    },
    {
      "cell_type": "code",
      "execution_count": null,
      "metadata": {
        "id": "BTfMReirN0OV"
      },
      "outputs": [],
      "source": [
        "# Constantes da Política Epsilon Greedy\n",
        "# Epsilon: probabilidade de experimentar uma ação aleatória\n",
        "EPSILON = 0.8        # Valor inicial do epsilon\n",
        "EPSILON_MIN = 0.01   # Valor mínimo de epsilon\n",
        "DECAIMENTO = 0.9    # Fator de decaímento do epsilon (por episódio)"
      ]
    },
    {
      "cell_type": "code",
      "execution_count": null,
      "metadata": {
        "id": "bVPJeuKYN0OV"
      },
      "outputs": [],
      "source": [
        "def escolhe_acao(env, Q, estado, epsilon):\n",
        "    # Se não conhecermos ainda o estado, inicializamos o Q de cada ação como 0\n",
        "    if estado not in Q.keys(): Q[estado] = [0] * n_acoes\n",
        "\n",
        "    # Escolhemos um número aleatório com \"np.random.random()\"\n",
        "    # Se esse número for menor que epsilon, tomamos uma ação aleatória\n",
        "    if np.random.random() < epsilon:\n",
        "        # Escolhemos uma ação aleatória, com env.action_space.sample()\n",
        "        acao = env.action_space.sample()\n",
        "    else:\n",
        "        # Escolhemos a melhor ação para o estado atual, com np.argmax()\n",
        "        acao = np.argmax(Q)\n",
        "    return acao"
      ]
    },
    {
      "cell_type": "markdown",
      "metadata": {
        "id": "cBLy7qX3N0OV"
      },
      "source": [
        "Agora, finalizando a implementação de todos os passos descritos anteriormente, criamos a função `roda_partida`, que recebe o ambiente e realiza todas as etapas necessárias para rodar uma partida, definidas anteriormente."
      ]
    },
    {
      "cell_type": "code",
      "execution_count": null,
      "metadata": {
        "id": "lGQn7ZTVN0OV"
      },
      "outputs": [],
      "source": [
        "def roda_partida(env):\n",
        "    # Resetamos o ambiente\n",
        "    estado, _ = env.reset()\n",
        "\n",
        "    # Discretizamos o estado\n",
        "    estado = discretiza_estado(estado)\n",
        "\n",
        "    done = False\n",
        "    retorno = 0\n",
        "\n",
        "    while not done:\n",
        "        # Escolhemos uma ação\n",
        "        acao = env.action_space.sample()\n",
        "\n",
        "        # Tomamos nossa ação escolhida e recebemos informações do próximo estado\n",
        "        prox_estado, recompensa, done, _, info = env.step(acao)\n",
        "\n",
        "        # Discretizamos o próximo estado\n",
        "        prox_estado = discretiza_estado(prox_estado)\n",
        "\n",
        "        retorno += recompensa\n",
        "        estado = prox_estado"
      ]
    },
    {
      "cell_type": "code",
      "execution_count": null,
      "metadata": {
        "id": "sF8oSqyDN0OV",
        "tags": []
      },
      "outputs": [],
      "source": [
        "# Rodamos uma partida\n",
        "roda_partida(env)"
      ]
    },
    {
      "cell_type": "markdown",
      "metadata": {
        "id": "nRUr2_7rN0OV"
      },
      "source": [
        "## 🏋️‍♀️ Treinamento\n",
        "\n",
        "Agora sim chegaremos no treinamento propriamente dito. Usando os conceitos vistos na apresentação e nas seções anteriores do notebook, podemos definir a função de treinamento que vai permitir que o agente aprenda a jogar Flappy Bird por meio de **Q-Learning tabular**."
      ]
    },
    {
      "cell_type": "markdown",
      "metadata": {},
      "source": [
        "O próximo passo é definir uma estratégia de treinamento do modelo, para que ele execute todos os passos definidos anteriormente de forma mais inteligente."
      ]
    },
    {
      "cell_type": "markdown",
      "metadata": {
        "id": "OGcPNqWiN0OV"
      },
      "source": [
        "O algoritmo se baseia na atualização de estimativas dos valores Q para cada par estado-ação, de forma a chegar a uma tabela cada vez mais próxima da realidade do ambiente. Dessa forma, devemos atualizar cada entrada da tabela de acordo com a **equação do Q-Learning**:\n",
        "\n",
        "$$Q*(s,a) \\leftarrow Q*(s,a) + \\alpha \\cdot \\left[r + \\gamma \\cdot \\max_{a'} (Q(s',a')) - Q(s, a)\\right]$$\n",
        "\n",
        "Esta equação corrige o valor do Q(s,a) de acordo com os valores anteriores somados a uma parcela de correção, de forma a minimizar o erro. A recompensa é representada por r, enquanto os outros parâmetros estão explicados a seguir:"
      ]
    },
    {
      "cell_type": "markdown",
      "metadata": {
        "id": "ZXSyod-uN0OV"
      },
      "source": [
        "* \"ALFA\" ($\\alpha$): algoritmos de aprendizado de máquina costumam precisar de uma forma de serem otimizados. Q-learning trabalha em cima de gradientes, uma entidade matemática que indica a direção para maximizar (ou minimizar) uma função. Dispondo dessa direção, precisamos informar qual deve ser o tamanho do passo a ser dado antes de atualizar a nova \"direção ideal\".\n",
        "\n",
        "* \"GAMA\" ($\\gamma$): denota o quanto desejamos que nosso algoritmo considere eventos futuros. Se \"$\\gamma = 1$\", nosso algoritmo avaliará que a situação futura ser melhor que a atual é tão importante quanto a recompensa da situação atual em si, por outro lado, se \"$\\gamma = 0$\", os eventos futuros não apresentam importância alguma para nosso algoritmo.\n",
        "\n",
        "* \"Q\" é um dicionário, ou seja, uma estrtura de dados capaz de buscar elementos de forma rápida. Nós o usaremos para guardar valores relativos às estimativas do algoritmo."
      ]
    },
    {
      "cell_type": "code",
      "execution_count": null,
      "metadata": {
        "id": "pbdQWL9cN0OV"
      },
      "outputs": [],
      "source": [
        "# Hiperparâmetros do Q-Learning\n",
        "ALFA = 0.001          # Learning rate\n",
        "GAMA = 0.98           # Fator de desconto\n",
        "\n",
        "# Dicionário dos valores de Q\n",
        "# Chaves: estados; valores: qualidade Q atribuida a cada ação\n",
        "Q = {}"
      ]
    },
    {
      "cell_type": "code",
      "execution_count": null,
      "metadata": {
        "id": "pXxvbLPmN0OV"
      },
      "outputs": [],
      "source": [
        "def atualiza_q(Q, estado, acao, recompensa, prox_estado):\n",
        "    # para cada estado ainda não descoberto, iniciamos seu valor como nulo\n",
        "    if estado not in Q.keys(): Q[estado] = [0] * n_acoes\n",
        "    if prox_estado not in Q.keys(): Q[prox_estado] = [0] * n_acoes\n",
        "\n",
        "    # equação do Q-Learning\n",
        "    Q[estado][acao] = Q[estado][acao] + ALFA * (recompensa + GAMA*np.max(Q[prox_estado]) - Q[estado][acao])"
      ]
    },
    {
      "cell_type": "markdown",
      "metadata": {
        "id": "G9TNoRh0N0OV"
      },
      "source": [
        "Pickle é uma maneira de salvar dados em um arquivo independente. Dessa forma, podemos gravar os valores da nossa tabela Q em um arquivo próprio, ficando disponível para ser acessada em outro momento. Assim, podemos efetivamente salvar o modelo treinado para ser utilizado posteriormente. Abaixo, já estão presentes as funções de salvar e de abrir as tabelas com pickle."
      ]
    },
    {
      "cell_type": "code",
      "execution_count": null,
      "metadata": {
        "id": "A62bPGFAN0OV"
      },
      "outputs": [],
      "source": [
        "import pickle\n",
        "\n",
        "def salva_tabela(Q, nome = 'model.pickle'):\n",
        "    with open(nome, 'wb') as pickle_out:\n",
        "        pickle.dump(Q, pickle_out)\n",
        "\n",
        "def carrega_tabela(nome = 'model.pickle'):\n",
        "    with open(nome, 'rb') as pickle_out:\n",
        "        return pickle.load(pickle_out)"
      ]
    },
    {
      "cell_type": "markdown",
      "metadata": {
        "id": "JQCI5KN3N0OV"
      },
      "source": [
        "A função de treinamento tem estrutura semelhante à função roda_partida, conforme visto anteriormente. A cada episódio, o embiente deve ser reiniciado e discretizado, e deve indicar que o episódio ainda não chegou em sua condição terminal. Devemos também zerar o valor da recompensa, pois não devemos utilizar o retorno do episódio anterior.\n",
        "\n",
        "Enquanto o episódio não chega no final, o agente deve escolher uma ação e tomar a ação escolhida. Uma vez tomada a ação, o ambiente fornece o próximo estado, a recompensa recebida com a escolha, a indicação se o estado é terminal e informações sobre o ambiente.\n",
        "\n",
        "Em seguida, devemos discretizar o próximo estado e atualizar os valores de q, o retorno e o estado atual.\n",
        "\n",
        "Por fim, devemos atualizar o valor do epsilon, de acordo com o método $\\epsilon$-greedy, onde deve ocorrer o decaimento do epsilon, mas seu valor nunca deve ser inferior ao valor mínimo definido.\n",
        "\n"
      ]
    },
    {
      "cell_type": "markdown",
      "metadata": {
        "id": "YRXN4_OSN0OV"
      },
      "source": [
        "* `N_EPISODIOS` dita quantas vezes o agente deverá \"reviver\" o ambiente (vitórias e derrotas) antes de acabar seu treinamento."
      ]
    },
    {
      "cell_type": "code",
      "execution_count": null,
      "metadata": {
        "id": "cBa1_tPyN0OW"
      },
      "outputs": [],
      "source": [
        "N_EPISODIOS = 120    # quantidade de episódios que treinaremos"
      ]
    },
    {
      "cell_type": "code",
      "execution_count": null,
      "metadata": {
        "id": "qILw81AcN0OZ"
      },
      "outputs": [],
      "source": [
        "def treina(env, Q):\n",
        "    retornos = []      # retorno de cada episódio\n",
        "    epsilon = EPSILON\n",
        "\n",
        "    for episodio in range(1, N_EPISODIOS+1):\n",
        "        # resetar o ambiente\n",
        "        estado, _ = env.reset()\n",
        "        \n",
        "        # discretizar o estado inicial\n",
        "        estado = discretiza_estado(estado)\n",
        "        \n",
        "        done = False\n",
        "        retorno = 0\n",
        "        \n",
        "        while not done:\n",
        "            # politica\n",
        "            acao = escolhe_acao(env, Q, estado, epsilon)\n",
        "\n",
        "            # A ação é tomada e os valores novos são coletados\n",
        "            # O novo estado é salvo numa nova variavel\n",
        "            prox_estado, recompensa, done, _, info = env.step(acao)\n",
        "            prox_estado = discretiza_estado(prox_estado)\n",
        "\n",
        "            atualiza_q(Q, estado, acao, recompensa, prox_estado)\n",
        "\n",
        "            retorno += recompensa\n",
        "            estado = prox_estado\n",
        "\n",
        "        # atualiza o valor de epsilon para o próximo episódio\n",
        "        epsilon = max(DECAIMENTO*epsilon, EPSILON_MIN)\n",
        "        retornos.append(retorno)\n",
        "\n",
        "        if episodio % 10 == 0:\n",
        "            salva_tabela(Q)\n",
        "\n",
        "        # log do resultado dos últimos episódios\n",
        "        print(f'episódio {episodio},  '\n",
        "              f'retorno {retorno:7.1f},  '\n",
        "              f'retorno médio (últimos 10 episódios) {np.mean(retornos[-10:]):7.1f},  '\n",
        "              f'epsilon: {epsilon:.3f}')"
      ]
    },
    {
      "cell_type": "markdown",
      "metadata": {},
      "source": [
        "Antes de testa a função de treino, será necessário inicializar um novo ambiente."
      ]
    },
    {
      "cell_type": "code",
      "execution_count": null,
      "metadata": {
        "id": "5AwQa1QzN0OZ",
        "tags": []
      },
      "outputs": [],
      "source": [
        "treina(env, Q)"
      ]
    },
    {
      "cell_type": "markdown",
      "metadata": {
        "id": "0tZyi6rqN0OZ"
      },
      "source": [
        "## Testando nosso Agente Treinado"
      ]
    },
    {
      "cell_type": "code",
      "execution_count": null,
      "metadata": {},
      "outputs": [],
      "source": [
        "roda_partida(env)"
      ]
    },
    {
      "cell_type": "code",
      "execution_count": null,
      "metadata": {},
      "outputs": [],
      "source": [
        "# Encerramos o ambienteclose\n",
        "env.close()"
      ]
    }
  ],
  "metadata": {
    "colab": {
      "provenance": []
    },
    "kernelspec": {
      "display_name": "Python 3",
      "language": "python",
      "name": "python3"
    },
    "language_info": {
      "codemirror_mode": {
        "name": "ipython",
        "version": 3
      },
      "file_extension": ".py",
      "mimetype": "text/x-python",
      "name": "python",
      "nbconvert_exporter": "python",
      "pygments_lexer": "ipython3",
      "version": "3.10.12"
    }
  },
  "nbformat": 4,
  "nbformat_minor": 0
}
